{
 "cells": [
  {
   "cell_type": "code",
   "execution_count": 16,
   "id": "c18322e4-eec2-4d38-8579-838aac9051f1",
   "metadata": {
    "scrolled": true
   },
   "outputs": [
    {
     "name": "stderr",
     "output_type": "stream",
     "text": [
      "                                                                                "
     ]
    },
    {
     "name": "stdout",
     "output_type": "stream",
     "text": [
      "First 10 entries of the dataset:\n",
      "+---------------+------------+------------+------------+\n",
      "|passenger_count|pulocationid|dolocationid|total_amount|\n",
      "+---------------+------------+------------+------------+\n",
      "|            1.0|       239.0|       239.0|         8.8|\n",
      "|            1.0|       230.0|       100.0|         8.3|\n",
      "|            1.0|        68.0|       127.0|       47.75|\n",
      "|            1.0|        68.0|        68.0|         7.3|\n",
      "|            1.0|        50.0|        42.0|       23.15|\n",
      "|            1.0|        95.0|       196.0|         9.8|\n",
      "|            1.0|       211.0|       211.0|         6.8|\n",
      "|            1.0|       237.0|       162.0|         7.8|\n",
      "|            1.0|       148.0|        37.0|        20.3|\n",
      "|            1.0|       265.0|       265.0|        0.31|\n",
      "+---------------+------------+------------+------------+\n",
      "only showing top 10 rows\n"
     ]
    },
    {
     "name": "stderr",
     "output_type": "stream",
     "text": [
      "                                                                                "
     ]
    },
    {
     "name": "stdout",
     "output_type": "stream",
     "text": [
      "First 10 predictions:\n"
     ]
    },
    {
     "name": "stderr",
     "output_type": "stream",
     "text": [
      "                                                                                "
     ]
    },
    {
     "name": "stdout",
     "output_type": "stream",
     "text": [
      "+---------------+------------+------------+------------+------------------+\n",
      "|passenger_count|pulocationid|dolocationid|total_amount|        prediction|\n",
      "+---------------+------------+------------+------------+------------------+\n",
      "|            0.0|         1.0|         1.0|       103.3|32.160820895522384|\n",
      "|            0.0|         4.0|         4.0|         6.8|32.160820895522384|\n",
      "|            0.0|         4.0|        33.0|       31.55| 19.49882598124357|\n",
      "|            0.0|         4.0|        79.0|         7.8|18.576614979520222|\n",
      "|            0.0|         4.0|       107.0|        11.8| 24.33321598826554|\n",
      "|            0.0|         4.0|       144.0|        11.3|15.865456332145953|\n",
      "|            0.0|         4.0|       234.0|        11.0|22.176947630922726|\n",
      "|            0.0|         7.0|       121.0|        28.8|30.028722115997393|\n",
      "|            0.0|         7.0|       223.0|         6.8|21.074034556944994|\n",
      "|            0.0|         7.0|       223.0|         8.3|21.074034556944994|\n",
      "+---------------+------------+------------+------------+------------------+\n",
      "only showing top 10 rows\n"
     ]
    },
    {
     "name": "stderr",
     "output_type": "stream",
     "text": [
      "[Stage 78:>                                                         (0 + 8) / 8]"
     ]
    },
    {
     "name": "stdout",
     "output_type": "stream",
     "text": [
      "Root Mean Squared Error (RMSE) on test data = 12.5084\n"
     ]
    },
    {
     "name": "stderr",
     "output_type": "stream",
     "text": [
      "                                                                                "
     ]
    }
   ],
   "source": [
    "import os\n",
    "from pyspark.sql import SparkSession\n",
    "from pyspark.ml.feature import VectorAssembler\n",
    "from pyspark.ml.regression import DecisionTreeRegressor\n",
    "from pyspark.ml import Pipeline\n",
    "from pyspark.ml.evaluation import RegressionEvaluator\n",
    "\n",
    "# Initializing Spark\n",
    "spark = SparkSession.builder.appName(\"TaxiML\").getOrCreate()\n",
    "\n",
    "# This is to suppress Spark INFO/WARN logs for cleaner output\n",
    "spark.sparkContext.setLogLevel(\"ERROR\")\n",
    "\n",
    "df = spark.read.csv(\"2019-04.csv\", header=True, inferSchema=True)\n",
    "\n",
    "# Create a dataset that only contains passenger_count (4th col), pulocationid (8th col), dolocationid (9th col), and total_amount (17th col) based on the 2019-04.csv dataset. \n",
    "\n",
    "selected_df = df.select(\n",
    "    df.columns[3],  # passenger_count\n",
    "    df.columns[7],  # pulocationid\n",
    "    df.columns[8],  # dolocationid\n",
    "    df.columns[16]  # total_amount\n",
    ").dropna()\n",
    "\n",
    "# Show the first 10 entries in the created dataset.\n",
    "print(\"First 10 entries of the dataset:\")\n",
    "selected_df.show(10)\n",
    "\n",
    "# Creating trainDF and testDF. Split sets (80/20)\n",
    "trainDF, testDF = selected_df.randomSplit([0.8, 0.2], seed=42)\n",
    "\n",
    "# Prepare features vector\n",
    "assembler = VectorAssembler(\n",
    "    inputCols=[df.columns[3], df.columns[7], df.columns[8]],\n",
    "    outputCol=\"features\"\n",
    ")\n",
    "\n",
    "# Create a decision tree regressor to predict total_amount from the other three features.\n",
    "dt = DecisionTreeRegressor(\n",
    "    featuresCol=\"features\",\n",
    "    labelCol=\"total_amount\",\n",
    "    maxDepth=10,\n",
    "    minInstancesPerNode=20\n",
    ")\n",
    "\n",
    "# Create pipeline\n",
    "pipeline = Pipeline(stages=[assembler, dt])\n",
    "\n",
    "# Train the model\n",
    "model = pipeline.fit(trainDF)\n",
    "\n",
    "# Show the predicted results along with the three features in the notebook. \n",
    "predictions = model.transform(testDF)\n",
    "\n",
    "# Show first 10 predictions with features\n",
    "print(\"First 10 predictions:\")\n",
    "predictions.select(\n",
    "    df.columns[3], df.columns[7], df.columns[8], df.columns[16], \"prediction\"\n",
    ").show(10)\n",
    "\n",
    "# Evaluate with RMSE\n",
    "evaluator = RegressionEvaluator(\n",
    "    labelCol=df.columns[16],\n",
    "    predictionCol=\"prediction\",\n",
    "    metricName=\"rmse\"\n",
    ")\n",
    "rmse = evaluator.evaluate(predictions)\n",
    "print(f\"Root Mean Squared Error (RMSE) on test data = {rmse:.4f}\")\n"
   ]
  }
 ],
 "metadata": {
  "kernelspec": {
   "display_name": "Python 3 (ipykernel) (Local)",
   "language": "python",
   "name": "python3"
  },
  "language_info": {
   "codemirror_mode": {
    "name": "ipython",
    "version": 3
   },
   "file_extension": ".py",
   "mimetype": "text/x-python",
   "name": "python",
   "nbconvert_exporter": "python",
   "pygments_lexer": "ipython3",
   "version": "3.13.2"
  }
 },
 "nbformat": 4,
 "nbformat_minor": 5
}
